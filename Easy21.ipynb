{
 "cells": [
  {
   "cell_type": "markdown",
   "id": "f36b32ee",
   "metadata": {},
   "source": [
    "# Easy21\n",
    "Assignment from the 2015 reinforcement learning by David Silver (UCL).\n",
    "\n",
    "Easy21 is a simple card game similar to Blackjack:\n",
    "- Each card is drawn from an infinite deck, with even distributed value between 1 and 10 and a color of red (P[red] = 1/3) or black (P[black] = 2/3)\n",
    "- At beginning both player and dealer draw a black card (observed)\n",
    "- At each turn player either stick or hit\n",
    "- Value of cards is sum of value of black cards minus sum of value of red cards\n",
    "- If player value exceeds 21 or becomes less than 1 they loose\n",
    "- Once player sticks, dealer draws. If value 17 or greater, dealer sticks. If dealer goes bust as above, player wins. Otherwise, highest value wins.\n",
    "- Win: +1; Draw: 0; Loss: -1\n",
    "\n",
    "\n",
    "\n"
   ]
  },
  {
   "cell_type": "markdown",
   "id": "8d1fc2e9",
   "metadata": {},
   "source": [
    "## The game environment\n",
    "We start with function step which takes a state, including the dealers first card and the player's sum, and an action, and returns a sample of the next state."
   ]
  },
  {
   "cell_type": "code",
   "execution_count": 138,
   "id": "7434daf8",
   "metadata": {},
   "outputs": [
    {
     "name": "stdout",
     "output_type": "stream",
     "text": [
      "(<__main__.state object at 0x10f433c10>, -1)\n"
     ]
    }
   ],
   "source": [
    "import random\n",
    "\n",
    "hit, stick, red, black = range(0, 4)\n",
    "\n",
    "class state:\n",
    "    def __init__(self, dealer_sum, player_sum):\n",
    "        self.dealer_sum = dealer_sum\n",
    "        self.player_sum = player_sum\n",
    "        \n",
    "def draw() -> int:\n",
    "    card_number = random.randrange(10) + 1\n",
    "    card_color = red if random.random() < 0.33 else black\n",
    "    if card_color == black:\n",
    "        return card_number\n",
    "    else:\n",
    "        return -card_number\n",
    "        \n",
    "def step(s, action):\n",
    "    if s.player_sum < 1 or 21 < s.player_sum:\n",
    "        # terminal state, loss\n",
    "        return (s, -1)\n",
    "\n",
    "    if action == hit:\n",
    "        s.player_sum += draw()\n",
    "        if s.player_sum < 1 or 21 < s.player_sum:\n",
    "            return (s, -1)\n",
    "        else:\n",
    "            return (s, 0)\n",
    "    elif action == stick:\n",
    "        while 1 <= s.dealer_sum < 17:\n",
    "            s.dealer_sum += draw()\n",
    "        if s.dealer_sum < 1 or 21 < s.dealer_sum:\n",
    "            return (s, 1)\n",
    "        elif s.dealer_sum < s.player_sum:\n",
    "            return (s, 1)\n",
    "        else:\n",
    "            return (s, -1)\n",
    "\n",
    "print(step(state(4, 16), stick))"
   ]
  }
 ],
 "metadata": {
  "kernelspec": {
   "display_name": "Python 3",
   "language": "python",
   "name": "python3"
  },
  "language_info": {
   "codemirror_mode": {
    "name": "ipython",
    "version": 3
   },
   "file_extension": ".py",
   "mimetype": "text/x-python",
   "name": "python",
   "nbconvert_exporter": "python",
   "pygments_lexer": "ipython3",
   "version": "3.9.5"
  }
 },
 "nbformat": 4,
 "nbformat_minor": 5
}
